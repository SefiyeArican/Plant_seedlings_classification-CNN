{
  "nbformat": 4,
  "nbformat_minor": 0,
  "metadata": {
    "colab": {
      "provenance": [],
      "gpuType": "T4",
      "authorship_tag": "ABX9TyOXtqvKL9vHbsxfDoKMfx5M",
      "include_colab_link": true
    },
    "kernelspec": {
      "name": "python3",
      "display_name": "Python 3"
    },
    "language_info": {
      "name": "python"
    },
    "accelerator": "GPU"
  },
  "cells": [
    {
      "cell_type": "markdown",
      "metadata": {
        "id": "view-in-github",
        "colab_type": "text"
      },
      "source": [
        "<a href=\"https://colab.research.google.com/github/SefiyeArican/plant_seedlings_classification/blob/main/plant_seedlings.ipynb\" target=\"_parent\"><img src=\"https://colab.research.google.com/assets/colab-badge.svg\" alt=\"Open In Colab\"/></a>"
      ]
    },
    {
      "cell_type": "code",
      "execution_count": null,
      "metadata": {
        "id": "caMT7FCh1Ydj"
      },
      "outputs": [],
      "source": [
        "import cv2\n",
        "import os\n",
        "import numpy as np\n",
        "import pandas as pd\n",
        "import plotly.express as px\n",
        "import matplotlib.pyplot as plt\n",
        "import seaborn as sns\n",
        "import tensorflow as tf\n",
        "from tensorflow.keras.preprocessing.image import ImageDataGenerator\n",
        "from tensorflow.keras.applications import ResNet50\n",
        "from tensorflow.keras.layers import Dense, GlobalAveragePooling2D\n",
        "from tensorflow.keras.models import Model\n",
        "from tensorflow.keras.optimizers import Adam\n",
        "from sklearn.model_selection import train_test_split\n",
        "from tensorflow.keras.utils import to_categorical\n",
        "from tensorflow.keras.models import Sequential\n",
        "from tensorflow.keras.layers import Conv2D, MaxPooling2D, Flatten, Dense, Dropout"
      ]
    },
    {
      "cell_type": "code",
      "source": [
        "from google.colab import drive\n",
        "drive.mount('/content/drive')"
      ],
      "metadata": {
        "colab": {
          "base_uri": "https://localhost:8080/"
        },
        "id": "zUaFd_ff1rQA",
        "outputId": "841b573d-72c0-4d35-edb1-e92c88df7581"
      },
      "execution_count": 1,
      "outputs": [
        {
          "output_type": "stream",
          "name": "stdout",
          "text": [
            "Mounted at /content/drive\n"
          ]
        }
      ]
    },
    {
      "cell_type": "code",
      "source": [
        "import zipfile\n",
        "import os\n",
        "\n",
        "dataset_path = \"/content/drive/MyDrive/plant-seedlings-classification.zip\"\n",
        "\n",
        "with zipfile.ZipFile(os.path.join(dataset_path), 'r') as zip_ref:\n",
        "    zip_ref.extractall(\"/content/\")"
      ],
      "metadata": {
        "id": "YkntipWi1xLi"
      },
      "execution_count": 2,
      "outputs": []
    },
    {
      "cell_type": "code",
      "source": [
        "import os\n",
        "\n",
        "# Veri setinin bulunduğu dizin\n",
        "data_dir = '/content'\n",
        "\n",
        "# Train sınıfı ve alt sınıflar için\n",
        "for class_name in os.listdir(data_dir):\n",
        "    class_dir = os.path.join(data_dir, class_name)\n",
        "    if os.path.isdir(class_dir):\n",
        "        print(f\"Sınıf: {class_name}\")\n",
        "        # Sınıf dizinindeki alt dizinlerin listesi\n",
        "        sub_classes = [sub_class for sub_class in os.listdir(class_dir) if os.path.isdir(os.path.join(class_dir, sub_class))]\n",
        "        for sub_class_name in sub_classes:\n",
        "            sub_class_dir = os.path.join(class_dir, sub_class_name)\n",
        "            print(f\"Alt Sınıf: {sub_class_name}\")\n",
        "            image_files = [file for file in os.listdir(sub_class_dir) if file.endswith(('jpg', 'jpeg', 'png'))]\n",
        "            if image_files:\n",
        "                print(f\"{len(image_files)} görüntü dosyası bulundu.\")\n",
        "            # else:\n",
        "            #     print(\"Bu alt sınıfta görüntü dosyası bulunamadı.\")\n",
        "    # else:\n",
        "    #     print(f\"{class_name} bir sınıf dizini değil.\")\n",
        "\n",
        "print(\" \")\n",
        "# Test sınıfı için\n",
        "test_dir = os.path.join(data_dir, 'test')\n",
        "if os.path.isdir(test_dir):\n",
        "    image_files = [file for file in os.listdir(test_dir) if file.endswith(('jpg', 'jpeg', 'png'))]\n",
        "    if image_files:\n",
        "        print(f\"Sınıf: test\")\n",
        "        print(f\"{len(image_files)} görüntü dosyası bulundu.\")\n",
        "#     else:\n",
        "#         print(\"Test sınıfında görüntü dosyası bulunamadı.\")\n",
        "# else:\n",
        "#     print(\"Test sınıfı bulunamadı.\")"
      ],
      "metadata": {
        "id": "2glD3REb18i8"
      },
      "execution_count": null,
      "outputs": []
    }
  ]
}